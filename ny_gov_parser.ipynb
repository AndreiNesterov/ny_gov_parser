{
 "cells": [
  {
   "cell_type": "markdown",
   "id": "41ccad71-0fe6-470c-8cab-287cc683fd96",
   "metadata": {},
   "source": [
    "Run the cell below to retrieve 10 records from the dataset \"Active Corporations: Beginning 1800\" by the New York State Department of State. This script uses [the official dataset API](https://data.ny.gov/d/n9v6-gdp6).\n",
    "The records will be saved in the file *n9v6_gdp6_results.html*. Open it in your browser.\n",
    "\n",
    "Make sure you have these dependencies installed:\n",
    "- pandas==1.1.3\n",
    "- Requests==2.32.5"
   ]
  },
  {
   "cell_type": "code",
   "execution_count": null,
   "id": "3666837b-567f-4752-86b9-f87ed797ca42",
   "metadata": {},
   "outputs": [],
   "source": [
    "import ny_gov_parser\n",
    "ny_gov_parser.display_10_records()"
   ]
  }
 ],
 "metadata": {
  "kernelspec": {
   "display_name": "Python 3",
   "language": "python",
   "name": "python3"
  },
  "language_info": {
   "codemirror_mode": {
    "name": "ipython",
    "version": 3
   },
   "file_extension": ".py",
   "mimetype": "text/x-python",
   "name": "python",
   "nbconvert_exporter": "python",
   "pygments_lexer": "ipython3",
   "version": "3.8.5"
  }
 },
 "nbformat": 4,
 "nbformat_minor": 5
}
